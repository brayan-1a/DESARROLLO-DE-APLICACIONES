{
 "cells": [
  {
   "cell_type": "code",
   "execution_count": 7,
   "metadata": {},
   "outputs": [
    {
     "name": "stdout",
     "output_type": "stream",
     "text": [
      "<table border='1'><tr><th>Nombre</th><th>Resumen</th><th>Jefe Inmediato</th><th>Estado</th></tr><tr><td>Juan Pérez</td><td>Gerente General</td><td>N/A</td><td>Activo</td></tr><tr><td>Ana Gómez</td><td>Jefe de Marketing</td><td>Juan Pérez</td><td>Activo</td></tr><tr><td>Carlos López</td><td>Jefe de Sistemas</td><td>Juan Pérez</td><td>Activo</td></tr><tr><td>Laura Díaz</td><td>Jefe de Producción</td><td>Juan Pérez</td><td>Activo</td></tr><tr><td>José Ramírez</td><td>Jefe de Logística</td><td>Juan Pérez</td><td>Activo</td></tr><tr><td>María Hernández</td><td>Asistente de Marketing</td><td>Ana Gómez</td><td>Activo</td></tr><tr><td>Pedro Sánchez</td><td>Asistente de Marketing</td><td>Ana Gómez</td><td>Activo</td></tr><tr><td>Luis García</td><td>Técnico de Marketing, Años de experiencia: 5</td><td>Ana Gómez</td><td>Activo</td></tr><tr><td>Jorge Castillo</td><td>Técnico de Marketing, Años de experiencia: 3</td><td>Ana Gómez</td><td>Activo</td></tr></table>\n"
     ]
    }
   ],
   "source": [
    "# Definición de las Clases\n",
    "\n",
    "class Trabajador:\n",
    "    def __init__(self, nombre, resumen, jefe_inmediato, estado):\n",
    "        self.nombre = nombre\n",
    "        self.resumen = resumen\n",
    "        self.jefe_inmediato = jefe_inmediato\n",
    "        self.estado = estado\n",
    "\n",
    "    def get_resumen(self):\n",
    "        return self.resumen\n",
    "\n",
    "    def get_jefe_inmediato(self):\n",
    "        return self.jefe_inmediato\n",
    "\n",
    "    def get_estado(self):\n",
    "        return self.estado\n",
    "\n",
    "    # Métodos Getter y Setter\n",
    "    def set_nombre(self, nombre):\n",
    "        self.nombre = nombre\n",
    "\n",
    "    def get_nombre(self):\n",
    "        return self.nombre\n",
    "\n",
    "    def set_resumen(self, resumen):\n",
    "        self.resumen = resumen\n",
    "\n",
    "    def set_jefe_inmediato(self, jefe_inmediato):\n",
    "        self.jefe_inmediato = jefe_inmediato\n",
    "\n",
    "    def set_estado(self, estado):\n",
    "        self.estado = estado\n",
    "\n",
    "class Gerente(Trabajador):\n",
    "    def __init__(self, nombre, resumen, estado):\n",
    "        super().__init__(nombre, resumen, None, estado) # Un gerente no tiene jefe inmediato\n",
    "\n",
    "class JefeDeArea(Trabajador):\n",
    "    def __init__(self, nombre, resumen, jefe_inmediato, estado):\n",
    "        super().__init__(nombre, resumen, jefe_inmediato, estado)\n",
    "\n",
    "class Asistente(Trabajador):\n",
    "    def __init__(self, nombre, resumen, jefe_inmediato, estado):\n",
    "        super().__init__(nombre, resumen, jefe_inmediato, estado)\n",
    "\n",
    "class Tecnico(Trabajador):\n",
    "    def __init__(self, nombre, resumen, jefe_inmediato, estado, anos_experiencia):\n",
    "        super().__init__(nombre, resumen, jefe_inmediato, estado)\n",
    "        self.anos_experiencia = anos_experiencia\n",
    "\n",
    "    def get_resumen(self):\n",
    "        return f\"{self.resumen}, Años de experiencia: {self.anos_experiencia}\"\n",
    "\n",
    "# Crear Trabajadores y Almacenarlos en un Array de Objetos\n",
    "trabajadores = []\n",
    "\n",
    "# Crear Gerente\n",
    "gerente = Gerente(\"Juan Pérez\", \"Gerente General\", \"Activo\")\n",
    "trabajadores.append(gerente)\n",
    "\n",
    "# Crear Jefes de Área\n",
    "jefe_marketing = JefeDeArea(\"Ana Gómez\", \"Jefe de Marketing\", gerente, \"Activo\")\n",
    "jefe_sistemas = JefeDeArea(\"Carlos López\", \"Jefe de Sistemas\", gerente, \"Activo\")\n",
    "jefe_produccion = JefeDeArea(\"Laura Díaz\", \"Jefe de Producción\", gerente, \"Activo\")\n",
    "jefe_logistica = JefeDeArea(\"José Ramírez\", \"Jefe de Logística\", gerente, \"Activo\")\n",
    "trabajadores.extend([jefe_marketing, jefe_sistemas, jefe_produccion, jefe_logistica])\n",
    "\n",
    "# Crear Asistentes y Técnicos para cada Jefe de Área\n",
    "asistente_marketing_1 = Asistente(\"María Hernández\", \"Asistente de Marketing\", jefe_marketing, \"Activo\")\n",
    "asistente_marketing_2 = Asistente(\"Pedro Sánchez\", \"Asistente de Marketing\", jefe_marketing, \"Activo\")\n",
    "tecnico_marketing_1 = Tecnico(\"Luis García\", \"Técnico de Marketing\", jefe_marketing, \"Activo\", 5)\n",
    "tecnico_marketing_2 = Tecnico(\"Jorge Castillo\", \"Técnico de Marketing\", jefe_marketing, \"Activo\", 3)\n",
    "trabajadores.extend([asistente_marketing_1, asistente_marketing_2, tecnico_marketing_1, tecnico_marketing_2])\n",
    "\n",
    "# Repetir para los demás Jefes de Área\n",
    "# ...\n",
    "\n",
    "# Función para listar trabajadores en HTML\n",
    "def listar_trabajadores_en_html(trabajadores):\n",
    "    html = \"<table border='1'>\"\n",
    "    html += \"<tr><th>Nombre</th><th>Resumen</th><th>Jefe Inmediato</th><th>Estado</th></tr>\"\n",
    "    for trabajador in trabajadores:\n",
    "        html += \"<tr>\"\n",
    "        html += f\"<td>{trabajador.nombre}</td>\"\n",
    "        html += f\"<td>{trabajador.get_resumen()}</td>\"\n",
    "        html += f\"<td>{trabajador.get_jefe_inmediato().nombre if trabajador.get_jefe_inmediato() else 'N/A'}</td>\"\n",
    "        html += f\"<td>{trabajador.get_estado()}</td>\"\n",
    "        html += \"</tr>\"\n",
    "    html += \"</table>\"\n",
    "    return html\n",
    "\n",
    "# Generar HTML\n",
    "html = listar_trabajadores_en_html(trabajadores)\n",
    "print(html)\n",
    "\n"
   ]
  },
  {
   "cell_type": "code",
   "execution_count": 8,
   "metadata": {},
   "outputs": [
    {
     "ename": "SyntaxError",
     "evalue": "invalid syntax (1078568514.py, line 1)",
     "output_type": "error",
     "traceback": [
      "\u001b[1;36m  Cell \u001b[1;32mIn[8], line 1\u001b[1;36m\u001b[0m\n\u001b[1;33m    <!DOCTYPE html>\u001b[0m\n\u001b[1;37m    ^\u001b[0m\n\u001b[1;31mSyntaxError\u001b[0m\u001b[1;31m:\u001b[0m invalid syntax\n"
     ]
    }
   ],
   "source": [
    "<!DOCTYPE html>\n",
    "<html>\n",
    "<head>\n",
    "    <title>Lista de Trabajadores</title>\n",
    "</head>\n",
    "<body>\n",
    "    <h1>Lista de Trabajadores</h1>\n",
    "    <div>\n",
    "        <!-- Pega aquí el HTML generado por el código Python -->\n",
    "        <table border='1'><tr><th>Nombre</th><th>Resumen</th><th>Jefe Inmediato</th><th>Estado</th></tr><tr><td>Juan Pérez</td><td>Gerente General</td><td>N/A</td><td>Activo</td></tr><tr><td>Ana Gómez</td><td>Jefe de Marketing</td><td>Juan Pérez</td><td>Activo</td></tr><tr><td>Carlos López</td><td>Jefe de Sistemas</td><td>Juan Pérez</td><td>Activo</td></tr><tr><td>Laura Díaz</td><td>Jefe de Producción</td><td>Juan Pérez</td><td>Activo</td></tr><tr><td>José Ramírez</td><td>Jefe de Logística</td><td>Juan Pérez</td><td>Activo</td></tr><tr><td>María Hernández</td><td>Asistente de Marketing</td><td>Ana Gómez</td><td>Activo</td></tr><tr><td>Pedro Sánchez</td><td>Asistente de Marketing</td><td>Ana Gómez</td><td>Activo</td></tr><tr><td>Luis García</td><td>Técnico de Marketing, Años de experiencia: 5</td><td>Ana Gómez</td><td>Activo</td></tr><tr><td>Jorge Castillo</td><td>Técnico de Marketing, Años de experiencia: 3</td><td>Ana Gómez</td><td>Activo</td></tr></table>\n",
    "    </div>\n",
    "</body>\n",
    "</html>\n"
   ]
  }
 ],
 "metadata": {
  "kernelspec": {
   "display_name": "Python 3",
   "language": "python",
   "name": "python3"
  },
  "language_info": {
   "codemirror_mode": {
    "name": "ipython",
    "version": 3
   },
   "file_extension": ".py",
   "mimetype": "text/x-python",
   "name": "python",
   "nbconvert_exporter": "python",
   "pygments_lexer": "ipython3",
   "version": "3.12.4"
  }
 },
 "nbformat": 4,
 "nbformat_minor": 2
}
